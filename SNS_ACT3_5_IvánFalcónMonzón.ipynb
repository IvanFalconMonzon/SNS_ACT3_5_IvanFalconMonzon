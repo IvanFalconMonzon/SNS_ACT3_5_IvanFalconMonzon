{
  "nbformat": 4,
  "nbformat_minor": 0,
  "metadata": {
    "colab": {
      "provenance": []
    },
    "kernelspec": {
      "name": "python3",
      "display_name": "Python 3"
    },
    "language_info": {
      "name": "python"
    }
  },
  "cells": [
    {
      "cell_type": "markdown",
      "source": [
        "# IVAN FALCON MONZON"
      ],
      "metadata": {
        "id": "JQtpw7IVA93G"
      }
    },
    {
      "cell_type": "markdown",
      "source": [
        "**Actividad 3.5 - Clasificación de Vinos**"
      ],
      "metadata": {
        "id": "00yxuKmbA5h7"
      }
    },
    {
      "cell_type": "markdown",
      "source": [
        "# **1. Importación del Dataset** (winequality-red.csv)"
      ],
      "metadata": {
        "id": "scnD8Iv3BDSF"
      }
    },
    {
      "cell_type": "markdown",
      "source": [
        "Se utilizará el dataset winequality-red.csv disponible en UCI Machine Learning Repository.\n",
        "\n",
        "Este contiene características físico-químicas de vinos tintos y su respectiva calidad en una escala de 1 a 10."
      ],
      "metadata": {
        "id": "6vMJWt52BF5u"
      }
    },
    {
      "cell_type": "code",
      "execution_count": null,
      "metadata": {
        "colab": {
          "base_uri": "https://localhost:8080/"
        },
        "id": "_ZHkj8WzA2aI",
        "outputId": "46b4ed5f-71b0-40f2-fefe-f2999d57e25b"
      },
      "outputs": [
        {
          "output_type": "stream",
          "name": "stdout",
          "text": [
            "   fixed acidity  volatile acidity  citric acid  residual sugar  chlorides  \\\n",
            "0            7.4              0.70         0.00             1.9      0.076   \n",
            "1            7.8              0.88         0.00             2.6      0.098   \n",
            "2            7.8              0.76         0.04             2.3      0.092   \n",
            "3           11.2              0.28         0.56             1.9      0.075   \n",
            "4            7.4              0.70         0.00             1.9      0.076   \n",
            "\n",
            "   free sulfur dioxide  total sulfur dioxide  density    pH  sulphates  \\\n",
            "0                 11.0                  34.0   0.9978  3.51       0.56   \n",
            "1                 25.0                  67.0   0.9968  3.20       0.68   \n",
            "2                 15.0                  54.0   0.9970  3.26       0.65   \n",
            "3                 17.0                  60.0   0.9980  3.16       0.58   \n",
            "4                 11.0                  34.0   0.9978  3.51       0.56   \n",
            "\n",
            "   alcohol  quality  \n",
            "0      9.4        5  \n",
            "1      9.8        5  \n",
            "2      9.8        5  \n",
            "3      9.8        6  \n",
            "4      9.4        5  \n"
          ]
        }
      ],
      "source": [
        "# IVAN FALCON MONZON\n",
        "import pandas as pd  # Importamos la librería Pandas para el manejo de datos\n",
        "\n",
        "# URL del dataset de vinos tintos\n",
        "dataset_url = \"https://archive.ics.uci.edu/ml/machine-learning-databases/wine-quality/winequality-red.csv\"\n",
        "\n",
        "# Cargar el dataset en un DataFrame, especificando que el separador es ';'\n",
        "df = pd.read_csv(dataset_url, sep=';')\n",
        "\n",
        "# Mostrar las primeras 5 filas del dataset para inspección rápida\n",
        "print(df.head())"
      ]
    },
    {
      "cell_type": "markdown",
      "source": [
        "# **2. Matriz de Correlación de variables**"
      ],
      "metadata": {
        "id": "QZM2LEUoBNsk"
      }
    },
    {
      "cell_type": "markdown",
      "source": [
        "Se visualizará la matriz de correlación entre las variables para identificar relaciones fuertes."
      ],
      "metadata": {
        "id": "VHJO0HQFBPub"
      }
    },
    {
      "cell_type": "code",
      "source": [
        "# IVAN FALCON MONZON\n",
        "import seaborn as sns  # Importamos Seaborn para visualización de datos\n",
        "import matplotlib.pyplot as plt  # Importamos Matplotlib para manejar gráficos\n",
        "\n",
        "# Configurar el tamaño de la figura para mejorar la visualización\n",
        "plt.figure(figsize=(10, 6))\n",
        "\n",
        "# Crear un mapa de calor para mostrar la correlación entre variables del DataFrame\n",
        "sns.heatmap(\n",
        "    df.corr(),  # Calcula la matriz de correlación\n",
        "    annot=True,  # Muestra los valores dentro de cada celda\n",
        "    cmap='coolwarm',  # Define la paleta de colores\n",
        "    fmt='.2f',  # Formato de los valores numéricos (2 decimales)\n",
        "    linewidths=0.5  # Espaciado entre las celdas\n",
        ")\n",
        "\n",
        "# Agregar un título a la visualización\n",
        "plt.title(\"Matriz de Correlación entre Variables\")\n",
        "\n",
        "# Mostrar el gráfico\n",
        "plt.show()"
      ],
      "metadata": {
        "colab": {
          "base_uri": "https://localhost:8080/",
          "height": 661
        },
        "id": "wU1833vgBSZf",
        "outputId": "ee91f82d-6ab0-42a8-ae85-6c4ed019c5ae"
      },
      "execution_count": null,
      "outputs": [
        {
          "output_type": "display_data",
          "data": {
            "text/plain": [
              "<Figure size 1000x600 with 2 Axes>"
            ],
            "image/png": "[encoded data removed]"
          },
          "metadata": {}
        }
      ]
    },
    {
      "cell_type": "markdown",
      "source": [
        "# **3. Selección de Características**"
      ],
      "metadata": {
        "id": "oEHWH_byB7th"
      }
    },
    {
      "cell_type": "markdown",
      "source": [
        "Se seleccionarán las características más relevantes para la clasificación."
      ],
      "metadata": {
        "id": "altwnDsiB90f"
      }
    },
    {
      "cell_type": "markdown",
      "source": [
        "**Características seleccionadas:**\n",
        "\n",
        "* volatile acidity\n",
        "\n",
        "+ total sulfur dioxide\n",
        "\n",
        "* density\n",
        "\n",
        "* sulphates\n",
        "\n",
        "* alcohol"
      ],
      "metadata": {
        "id": "AAGNKF2JCl_S"
      }
    },
    {
      "cell_type": "code",
      "source": [
        "# IVAN FALCON MONZON\n",
        "from sklearn.model_selection import train_test_split  # Importamos la función para dividir los datos\n",
        "\n",
        "# Selección de características relevantes para el modelo\n",
        "selected_features = ['volatile acidity', 'total sulfur dioxide', 'density', 'sulphates', 'alcohol']\n",
        "X = df[selected_features]  # Variables predictoras\n",
        "y = df['quality']  # Variable objetivo (calidad del vino)\n",
        "\n",
        "# División de los datos en conjunto de entrenamiento (80%) y prueba (20%)\n",
        "X_train, X_test, y_train, y_test = train_test_split(\n",
        "    X, y, test_size=0.2, random_state=42\n",
        ")\n",
        "\n",
        "# `random_state=42` asegura reproducibilidad en la división de datos"
      ],
      "metadata": {
        "id": "fmBMMeRhCCAo"
      },
      "execution_count": null,
      "outputs": []
    },
    {
      "cell_type": "markdown",
      "source": [
        "**Clasificación por Random Forest**"
      ],
      "metadata": {
        "id": "dAExSGO5g58Z"
      }
    },
    {
      "cell_type": "code",
      "source": [
        "# IVAN FALCON MONZON\n",
        "from sklearn.ensemble import RandomForestClassifier  # Importamos el clasificador Random Forest\n",
        "from sklearn.metrics import accuracy_score, classification_report  # Métricas de evaluación\n",
        "\n",
        "# Crear el modelo de Random Forest\n",
        "rf_model = RandomForestClassifier(n_estimators=100, random_state=42)  # 100 árboles en el bosque\n",
        "\n",
        "# Entrenar el modelo con los datos de entrenamiento\n",
        "rf_model.fit(X_train, y_train)\n",
        "\n",
        "# Realizar predicciones sobre el conjunto de prueba\n",
        "y_pred = rf_model.predict(X_test)\n",
        "\n",
        "# Evaluación del modelo\n",
        "accuracy = accuracy_score(y_test, y_pred)  # Precisión del modelo\n",
        "report = classification_report(y_test, y_pred)  # Reporte de métricas detalladas\n",
        "\n",
        "# Mostrar resultados\n",
        "print(f\"Precisión del modelo: {accuracy:.2f}\")\n",
        "print(\"Reporte de clasificación:\")\n",
        "print(report)"
      ],
      "metadata": {
        "colab": {
          "base_uri": "https://localhost:8080/"
        },
        "id": "x_CL_Q4dgy2x",
        "outputId": "80125fba-d6bb-41f0-a44a-30eba7524a88"
      },
      "execution_count": null,
      "outputs": [
        {
          "output_type": "stream",
          "name": "stdout",
          "text": [
            "Precisión del modelo: 0.68\n",
            "Reporte de clasificación:\n",
            "              precision    recall  f1-score   support\n",
            "\n",
            "           3       0.00      0.00      0.00         1\n",
            "           4       0.00      0.00      0.00        10\n",
            "           5       0.72      0.79      0.75       130\n",
            "           6       0.65      0.69      0.67       132\n",
            "           7       0.63      0.52      0.57        42\n",
            "           8       0.00      0.00      0.00         5\n",
            "\n",
            "    accuracy                           0.68       320\n",
            "   macro avg       0.33      0.33      0.33       320\n",
            "weighted avg       0.64      0.68      0.66       320\n",
            "\n"
          ]
        },
        {
          "output_type": "stream",
          "name": "stderr",
          "text": [
            "/usr/local/lib/python3.11/dist-packages/sklearn/metrics/_classification.py:1565: UndefinedMetricWarning: Precision is ill-defined and being set to 0.0 in labels with no predicted samples. Use `zero_division` parameter to control this behavior.\n",
            "  _warn_prf(average, modifier, f\"{metric.capitalize()} is\", len(result))\n",
            "/usr/local/lib/python3.11/dist-packages/sklearn/metrics/_classification.py:1565: UndefinedMetricWarning: Precision is ill-defined and being set to 0.0 in labels with no predicted samples. Use `zero_division` parameter to control this behavior.\n",
            "  _warn_prf(average, modifier, f\"{metric.capitalize()} is\", len(result))\n",
            "/usr/local/lib/python3.11/dist-packages/sklearn/metrics/_classification.py:1565: UndefinedMetricWarning: Precision is ill-defined and being set to 0.0 in labels with no predicted samples. Use `zero_division` parameter to control this behavior.\n",
            "  _warn_prf(average, modifier, f\"{metric.capitalize()} is\", len(result))\n"
          ]
        }
      ]
    },
    {
      "cell_type": "markdown",
      "source": [
        "**Explicación del código:**\n",
        "1. Importamos RandomForestClassifier de sklearn.ensemble.\n",
        "2. Se crea el modelo en este caso con 100 árboles (n_estimators=100).\n",
        "3. Entrenamos el modelo con X_train y y_train.\n",
        "4. Predecimos valores con X_test.\n",
        "5. Calculamos la precisión con accuracy_score().\n",
        "6. Mostramos el classification_report(), que incluye precisión, recall y F1-score."
      ],
      "metadata": {
        "id": "KsofPNbshCHA"
      }
    },
    {
      "cell_type": "markdown",
      "source": [
        "# **4. Comparación de Modelos: Naive Bayes vs KNN**"
      ],
      "metadata": {
        "id": "QhEPiahcCzOX"
      }
    },
    {
      "cell_type": "markdown",
      "source": [
        "Se comparará la precisión de Naive Bayes y KNN utilizando Cross Validation."
      ],
      "metadata": {
        "id": "SYlcl3zrC6ho"
      }
    },
    {
      "cell_type": "code",
      "source": [
        "# IVAN FALCON MONZON\n",
        "from sklearn.naive_bayes import GaussianNB  # Importamos el modelo Naive Bayes Gaussiano\n",
        "from sklearn.neighbors import KNeighborsClassifier  # Importamos K-Nearest Neighbors (KNN)\n",
        "from sklearn.model_selection import cross_val_score  # Importamos Cross Validation para evaluación\n",
        "\n",
        "# Definimos los modelos\n",
        "nb_model = GaussianNB()  # Modelo Naive Bayes Gaussiano\n",
        "knn_model = KNeighborsClassifier(n_neighbors=5)  # Modelo KNN con 5 vecinos\n",
        "\n",
        "# Evaluación con validación cruzada de 5 folds (cv=5)\n",
        "nb_scores = cross_val_score(nb_model, X, y, cv=5)  # Evaluamos Naive Bayes\n",
        "knn_scores = cross_val_score(knn_model, X, y, cv=5)  # Evaluamos KNN\n",
        "\n",
        "# Mostramos la precisión promedio de cada modelo\n",
        "print(f\"Precisión promedio Naive Bayes: {nb_scores.mean():.2f}\")\n",
        "print(f\"Precisión promedio KNN: {knn_scores.mean():.2f}\")"
      ],
      "metadata": {
        "colab": {
          "base_uri": "https://localhost:8080/"
        },
        "id": "xPmE4wIhC7TY",
        "outputId": "10509f3c-cf21-4e95-bd3e-e1e7a8defb73"
      },
      "execution_count": null,
      "outputs": [
        {
          "output_type": "stream",
          "name": "stdout",
          "text": [
            "Precisión promedio Naive Bayes: 0.58\n",
            "Precisión promedio KNN: 0.50\n"
          ]
        }
      ]
    },
    {
      "cell_type": "markdown",
      "source": [
        "**Resultados obtenidos:**\n",
        "\n",
        "* Precisión Naive Bayes: 0.58\n",
        "\n",
        "* Precisión KNN: 0.50"
      ],
      "metadata": {
        "id": "XZ8QV7HhDjfq"
      }
    },
    {
      "cell_type": "markdown",
      "source": [
        "# **5. Entrenamiento del Mejor Modelo y Matriz de Confusión**"
      ],
      "metadata": {
        "id": "b2Bxry4jDBl0"
      }
    },
    {
      "cell_type": "markdown",
      "source": [
        "Se entrenará el modelo que obtuvo mejor rendimiento (En mi caso Naive Bayes)."
      ],
      "metadata": {
        "id": "rC7YSTFrDC8D"
      }
    },
    {
      "cell_type": "code",
      "source": [
        "# IVAN FALCON MONZON\n",
        "from sklearn.metrics import confusion_matrix, classification_report  # Importamos métricas de evaluación\n",
        "\n",
        "# Entrenar el modelo seleccionado (Naive Bayes, ya que tuvo mejor desempeño)\n",
        "best_model = GaussianNB()\n",
        "best_model.fit(X_train, y_train)  # Entrenamos el modelo con los datos de entrenamiento\n",
        "\n",
        "# Realizamos predicciones en el conjunto de prueba\n",
        "y_pred = best_model.predict(X_test)\n",
        "\n",
        "# Matriz de confusión para evaluar el desempeño del modelo\n",
        "conf_matrix = confusion_matrix(y_test, y_pred)\n",
        "print(\"Matriz de Confusión:\")\n",
        "print(conf_matrix)\n",
        "\n",
        "# Reporte detallado con métricas de clasificación (precisión, recall, F1-score)\n",
        "print(\"Reporte de Clasificación:\")\n",
        "print(classification_report(y_test, y_pred))"
      ],
      "metadata": {
        "colab": {
          "base_uri": "https://localhost:8080/"
        },
        "id": "nWcSFCbgDEdJ",
        "outputId": "d6f78292-c75c-48c3-b7b4-69e7024b2b9d"
      },
      "execution_count": null,
      "outputs": [
        {
          "output_type": "stream",
          "name": "stdout",
          "text": [
            "Matriz de Confusión:\n",
            "[[ 0  0  1  0  0  0]\n",
            " [ 1  1  8  0  0  0]\n",
            " [ 0  0 99 31  0  0]\n",
            " [ 0  1 49 65 17  0]\n",
            " [ 0  0  2 31  9  0]\n",
            " [ 0  0  0  1  4  0]]\n",
            "Reporte de Clasificación:\n",
            "              precision    recall  f1-score   support\n",
            "\n",
            "           3       0.00      0.00      0.00         1\n",
            "           4       0.50      0.10      0.17        10\n",
            "           5       0.62      0.76      0.69       130\n",
            "           6       0.51      0.49      0.50       132\n",
            "           7       0.30      0.21      0.25        42\n",
            "           8       0.00      0.00      0.00         5\n",
            "\n",
            "    accuracy                           0.54       320\n",
            "   macro avg       0.32      0.26      0.27       320\n",
            "weighted avg       0.52      0.54      0.52       320\n",
            "\n"
          ]
        },
        {
          "output_type": "stream",
          "name": "stderr",
          "text": [
            "/usr/local/lib/python3.11/dist-packages/sklearn/metrics/_classification.py:1565: UndefinedMetricWarning: Precision is ill-defined and being set to 0.0 in labels with no predicted samples. Use `zero_division` parameter to control this behavior.\n",
            "  _warn_prf(average, modifier, f\"{metric.capitalize()} is\", len(result))\n",
            "/usr/local/lib/python3.11/dist-packages/sklearn/metrics/_classification.py:1565: UndefinedMetricWarning: Precision is ill-defined and being set to 0.0 in labels with no predicted samples. Use `zero_division` parameter to control this behavior.\n",
            "  _warn_prf(average, modifier, f\"{metric.capitalize()} is\", len(result))\n",
            "/usr/local/lib/python3.11/dist-packages/sklearn/metrics/_classification.py:1565: UndefinedMetricWarning: Precision is ill-defined and being set to 0.0 in labels with no predicted samples. Use `zero_division` parameter to control this behavior.\n",
            "  _warn_prf(average, modifier, f\"{metric.capitalize()} is\", len(result))\n"
          ]
        }
      ]
    },
    {
      "cell_type": "markdown",
      "source": [
        "**Guardar el modelo para próximos modelos**"
      ],
      "metadata": {
        "id": "UY5ukVOSjCcY"
      }
    },
    {
      "cell_type": "code",
      "source": [
        "# IVAN FALCON MONZON\n",
        "import joblib  # Importamos joblib para guardar y cargar modelos\n",
        "\n",
        "# Guardar el modelo entrenado en un archivo .pkl\n",
        "modelo_path = 'modelo_vinos.pkl'  # Nombre del archivo donde se guardará el modelo\n",
        "joblib.dump(best_model, modelo_path)\n",
        "\n",
        "# Verificar que el modelo se ha guardado correctamente\n",
        "print(f\"Modelo guardado exitosamente en '{modelo_path}'\")"
      ],
      "metadata": {
        "colab": {
          "base_uri": "https://localhost:8080/"
        },
        "id": "mT1iCgToIQdU",
        "outputId": "e404ca52-3f80-4d4f-a68d-60869d7e56da"
      },
      "execution_count": null,
      "outputs": [
        {
          "output_type": "stream",
          "name": "stdout",
          "text": [
            "Modelo guardado exitosamente en 'modelo_vinos.pkl'\n"
          ]
        }
      ]
    },
    {
      "cell_type": "markdown",
      "source": [
        "**Cargar el modelo guardado**"
      ],
      "metadata": {
        "id": "X9MB2sVEjU23"
      }
    },
    {
      "cell_type": "code",
      "source": [
        "# IVAN FALCON MONZON\n",
        "import joblib  # Importamos joblib para cargar el modelo guardado\n",
        "\n",
        "# Cargar el modelo previamente guardado\n",
        "modelo_path = 'modelo_vinos.pkl'\n",
        "loaded_model = joblib.load(modelo_path)\n",
        "\n",
        "print(f\"Modelo cargado exitosamente desde '{modelo_path}'\")\n",
        "\n",
        "# Verificación opcional: realizar una predicción con los datos de prueba\n",
        "sample_prediction = loaded_model.predict(X_test[:5])  # Predecir las primeras 5 muestras\n",
        "print(\"Ejemplo de predicciones con el modelo cargado:\", sample_prediction)"
      ],
      "metadata": {
        "colab": {
          "base_uri": "https://localhost:8080/"
        },
        "id": "9xSLYtQtIQof",
        "outputId": "315aadde-f9c5-4098-a2ab-11393db82145"
      },
      "execution_count": null,
      "outputs": [
        {
          "output_type": "stream",
          "name": "stdout",
          "text": [
            "Modelo cargado exitosamente desde 'modelo_vinos.pkl'\n",
            "Ejemplo de predicciones con el modelo cargado: [5 5 5 5 6]\n"
          ]
        }
      ]
    },
    {
      "cell_type": "markdown",
      "source": [
        "# **6. Comparación con la Calidad del Dataset**"
      ],
      "metadata": {
        "id": "JNrQAlzjEF-n"
      }
    },
    {
      "cell_type": "markdown",
      "source": [
        "Se evaluará si la predicción del modelo coincide con los valores reales de calidad."
      ],
      "metadata": {
        "id": "CKtqGgQ0GIiw"
      }
    },
    {
      "cell_type": "code",
      "source": [
        "# IVAN FALCON MONZON\n",
        "from sklearn.metrics import confusion_matrix, classification_report  # Importamos las métricas necesarias\n",
        "\n",
        "# Aplicar el modelo cargado a los datos de prueba\n",
        "y_pred = loaded_model.predict(X_test)  # Realizamos predicciones sobre el conjunto de prueba\n",
        "\n",
        "# Generar la Matriz de Confusión\n",
        "conf_matrix = confusion_matrix(y_test, y_pred)\n",
        "print(\"Matriz de Confusión:\")\n",
        "print(conf_matrix)\n",
        "\n",
        "# Generar el Reporte de Clasificación (precisión, recall, F1-score, etc.)\n",
        "print(\"Reporte de Clasificación:\")\n",
        "print(classification_report(y_test, y_pred))"
      ],
      "metadata": {
        "colab": {
          "base_uri": "https://localhost:8080/"
        },
        "id": "xdg3m4_9jzy3",
        "outputId": "44d0411f-bf2c-42fe-8222-ecdc7234a8a2"
      },
      "execution_count": null,
      "outputs": [
        {
          "output_type": "stream",
          "name": "stdout",
          "text": [
            "Matriz de Confusión:\n",
            "[[ 0  0  1  0  0  0]\n",
            " [ 1  1  8  0  0  0]\n",
            " [ 0  0 99 31  0  0]\n",
            " [ 0  1 49 65 17  0]\n",
            " [ 0  0  2 31  9  0]\n",
            " [ 0  0  0  1  4  0]]\n",
            "Reporte de Clasificación:\n",
            "              precision    recall  f1-score   support\n",
            "\n",
            "           3       0.00      0.00      0.00         1\n",
            "           4       0.50      0.10      0.17        10\n",
            "           5       0.62      0.76      0.69       130\n",
            "           6       0.51      0.49      0.50       132\n",
            "           7       0.30      0.21      0.25        42\n",
            "           8       0.00      0.00      0.00         5\n",
            "\n",
            "    accuracy                           0.54       320\n",
            "   macro avg       0.32      0.26      0.27       320\n",
            "weighted avg       0.52      0.54      0.52       320\n",
            "\n"
          ]
        },
        {
          "output_type": "stream",
          "name": "stderr",
          "text": [
            "/usr/local/lib/python3.11/dist-packages/sklearn/metrics/_classification.py:1565: UndefinedMetricWarning: Precision is ill-defined and being set to 0.0 in labels with no predicted samples. Use `zero_division` parameter to control this behavior.\n",
            "  _warn_prf(average, modifier, f\"{metric.capitalize()} is\", len(result))\n",
            "/usr/local/lib/python3.11/dist-packages/sklearn/metrics/_classification.py:1565: UndefinedMetricWarning: Precision is ill-defined and being set to 0.0 in labels with no predicted samples. Use `zero_division` parameter to control this behavior.\n",
            "  _warn_prf(average, modifier, f\"{metric.capitalize()} is\", len(result))\n",
            "/usr/local/lib/python3.11/dist-packages/sklearn/metrics/_classification.py:1565: UndefinedMetricWarning: Precision is ill-defined and being set to 0.0 in labels with no predicted samples. Use `zero_division` parameter to control this behavior.\n",
            "  _warn_prf(average, modifier, f\"{metric.capitalize()} is\", len(result))\n"
          ]
        }
      ]
    },
    {
      "cell_type": "code",
      "source": [
        "# IVAN FALCON MONZON\n",
        "# Evaluación final del modelo usando la precisión en el conjunto de prueba\n",
        "accuracy = loaded_model.score(X_test, y_test)  # Calculamos la precisión final\n",
        "print(f\"Precisión final del modelo: {accuracy:.4f}\")"
      ],
      "metadata": {
        "colab": {
          "base_uri": "https://localhost:8080/"
        },
        "id": "zP-nqmiYIYli",
        "outputId": "b23da257-2f47-40e0-ef66-40a067d17c3c"
      },
      "execution_count": null,
      "outputs": [
        {
          "output_type": "stream",
          "name": "stdout",
          "text": [
            "Precisión final del modelo: 0.5437\n"
          ]
        }
      ]
    },
    {
      "cell_type": "markdown",
      "source": [
        "# **NUEVOS ENFOQUES**"
      ],
      "metadata": {
        "id": "v0T0DvEbJaLa"
      }
    },
    {
      "cell_type": "markdown",
      "source": [
        "En este apartado entrenaré con diferentes modelos y métodos para que de un mejor resultado en la predicción."
      ],
      "metadata": {
        "id": "xv9rQaGokrtP"
      }
    },
    {
      "cell_type": "markdown",
      "source": [
        "# **A)** **Método de Clasificación** con **Random Forest Classifie**r junto con **GridSearchCV** para optimizar los hiperparámetros"
      ],
      "metadata": {
        "id": "_grGQ2W8kzDH"
      }
    },
    {
      "cell_type": "code",
      "source": [
        "# IVAN FALCON MONZON\n",
        "import pandas as pd\n",
        "import seaborn as sns\n",
        "import matplotlib.pyplot as plt\n",
        "import joblib  # Para guardar y cargar el modelo\n",
        "from sklearn.model_selection import train_test_split, cross_val_score, GridSearchCV\n",
        "from sklearn.ensemble import RandomForestClassifier\n",
        "from sklearn.preprocessing import StandardScaler\n",
        "from sklearn.metrics import confusion_matrix, classification_report\n",
        "\n",
        "# Cargar el dataset de vinos tintos\n",
        "dataset_url = \"https://archive.ics.uci.edu/ml/machine-learning-databases/wine-quality/winequality-red.csv\"\n",
        "df = pd.read_csv(dataset_url, sep=';')\n",
        "\n",
        "# Selección de características relevantes del dataset\n",
        "selected_features = ['volatile acidity', 'total sulfur dioxide', 'density', 'sulphates', 'alcohol']\n",
        "X = df[selected_features]  # Variables predictoras\n",
        "y = df['quality']  # Variable objetivo (calidad del vino)\n",
        "\n",
        "# Normalización de los datos para mejorar el rendimiento del modelo\n",
        "scaler = StandardScaler()\n",
        "X_scaled = scaler.fit_transform(X)\n",
        "\n",
        "# División en conjunto de entrenamiento y conjunto de prueba (80%-20%)\n",
        "X_train, X_test, y_train, y_test = train_test_split(X_scaled, y, test_size=0.2, random_state=42)\n",
        "\n",
        "# Definir el modelo Random Forest con búsqueda de hiperparámetros utilizando GridSearchCV\n",
        "tuned_parameters = {\n",
        "    'n_estimators': [50, 100, 200],  # Número de árboles en el bosque\n",
        "    'max_depth': [None, 10, 20],  # Profundidad máxima de los árboles\n",
        "    'min_samples_split': [2, 5, 10]  # Mínimo número de muestras para dividir un nodo\n",
        "}\n",
        "rf_model = GridSearchCV(RandomForestClassifier(random_state=42), tuned_parameters, cv=5, scoring='accuracy')\n",
        "\n",
        "# Entrenar el modelo con los mejores parámetros encontrados a través de GridSearchCV\n",
        "rf_model.fit(X_train, y_train)\n",
        "print(f\"Mejores parámetros encontrados: {rf_model.best_params_}\")  # Imprimir los mejores parámetros\n",
        "\n",
        "# Guardar el modelo optimizado en un archivo\n",
        "joblib.dump(rf_model.best_estimator_, 'modelo_vinos_mejorado.pkl')\n",
        "print(\"Modelo mejorado guardado exitosamente en 'modelo_vinos_mejorado.pkl'\")\n",
        "\n",
        "# Cargar el modelo optimizado desde el archivo\n",
        "loaded_model = joblib.load('modelo_vinos_mejorado.pkl')\n",
        "print(\"Modelo mejorado cargado exitosamente.\")\n",
        "\n",
        "# Realizar predicciones en el conjunto de prueba\n",
        "y_pred = loaded_model.predict(X_test)\n",
        "\n",
        "# Generar la Matriz de Confusión para evaluar las predicciones\n",
        "conf_matrix = confusion_matrix(y_test, y_pred)\n",
        "print(\"\\nMatriz de Confusión:\")\n",
        "print(conf_matrix)\n",
        "\n",
        "# Generar el Reporte de Clasificación, que muestra precisión, recall, f1-score, etc.\n",
        "print(\"\\nReporte de Clasificación:\")\n",
        "print(classification_report(y_test, y_pred))\n",
        "\n",
        "# Evaluación final del modelo: Precisión en el conjunto de prueba\n",
        "accuracy = loaded_model.score(X_test, y_test)\n",
        "print(f\"\\nPrecisión final del modelo mejorado: {accuracy:.4f}\")"
      ],
      "metadata": {
        "colab": {
          "base_uri": "https://localhost:8080/"
        },
        "id": "SACK7PGDJZXz",
        "outputId": "c5340e22-fbbb-4d03-fc8c-25bfe46e59af"
      },
      "execution_count": null,
      "outputs": [
        {
          "output_type": "stream",
          "name": "stdout",
          "text": [
            "Mejores parámetros encontrados: {'max_depth': 20, 'min_samples_split': 5, 'n_estimators': 100}\n",
            "Modelo mejorado guardado exitosamente en 'modelo_vinos_mejorado.pkl'\n",
            "Modelo mejorado cargado exitosamente.\n",
            "\n",
            "Matriz de Confusión:\n",
            "[[  0   0   1   0   0   0]\n",
            " [  0   0   6   4   0   0]\n",
            " [  0   0 103  27   0   0]\n",
            " [  0   0  33  90   9   0]\n",
            " [  0   0   1  19  22   0]\n",
            " [  0   0   0   0   5   0]]\n",
            "\n",
            "Reporte de Clasificación:\n",
            "              precision    recall  f1-score   support\n",
            "\n",
            "           3       0.00      0.00      0.00         1\n",
            "           4       0.00      0.00      0.00        10\n",
            "           5       0.72      0.79      0.75       130\n",
            "           6       0.64      0.68      0.66       132\n",
            "           7       0.61      0.52      0.56        42\n",
            "           8       0.00      0.00      0.00         5\n",
            "\n",
            "    accuracy                           0.67       320\n",
            "   macro avg       0.33      0.33      0.33       320\n",
            "weighted avg       0.64      0.67      0.65       320\n",
            "\n",
            "\n",
            "Precisión final del modelo mejorado: 0.6719\n"
          ]
        },
        {
          "output_type": "stream",
          "name": "stderr",
          "text": [
            "/usr/local/lib/python3.11/dist-packages/sklearn/metrics/_classification.py:1565: UndefinedMetricWarning: Precision is ill-defined and being set to 0.0 in labels with no predicted samples. Use `zero_division` parameter to control this behavior.\n",
            "  _warn_prf(average, modifier, f\"{metric.capitalize()} is\", len(result))\n",
            "/usr/local/lib/python3.11/dist-packages/sklearn/metrics/_classification.py:1565: UndefinedMetricWarning: Precision is ill-defined and being set to 0.0 in labels with no predicted samples. Use `zero_division` parameter to control this behavior.\n",
            "  _warn_prf(average, modifier, f\"{metric.capitalize()} is\", len(result))\n",
            "/usr/local/lib/python3.11/dist-packages/sklearn/metrics/_classification.py:1565: UndefinedMetricWarning: Precision is ill-defined and being set to 0.0 in labels with no predicted samples. Use `zero_division` parameter to control this behavior.\n",
            "  _warn_prf(average, modifier, f\"{metric.capitalize()} is\", len(result))\n"
          ]
        }
      ]
    },
    {
      "cell_type": "markdown",
      "source": [
        "Explicación del código (A\n",
        "1. Cargar y preparar los datos: Se carga el dataset, se seleccionan las 3 características relevantes y se normalizan los datos.\n",
        "2. División de los datos: Se divide el dataset en entrenamiento y prueba (80%/20%).\n",
        "3. Optimización de hiperparámetros: Se utiliza GridSearchCV para encontrar los mejores parámetros del modelo Random Forest.\n",
        "4. Entrenamiento y evaluación: El modelo optimizado se entrena, se guarda, se carga y se evalúa utilizando la matriz de confusión, el reporte de clasificación y la precisión."
      ],
      "metadata": {
        "id": "0Qo9GfFEliXH"
      }
    },
    {
      "cell_type": "markdown",
      "source": [
        "# **B) Método de Clasificación:** Gradient Boosting Classifier y SMOTE"
      ],
      "metadata": {
        "id": "KxI69hGKl7qG"
      }
    },
    {
      "cell_type": "markdown",
      "source": [
        "El código utiliza el **Gradient Boosting Classifier junto con SMOTE** para abordar el desbalanceo en las clases y GridSearchCV para optimizar los hiperparámetros."
      ],
      "metadata": {
        "id": "dD8EKv9sl23e"
      }
    },
    {
      "cell_type": "code",
      "source": [
        "# IVAN FALCON MONZON\n",
        "import pandas as pd\n",
        "import seaborn as sns\n",
        "import matplotlib.pyplot as plt\n",
        "import joblib\n",
        "from imblearn.over_sampling import SMOTE  # Para balancear las clases con SMOTE\n",
        "from sklearn.model_selection import train_test_split, GridSearchCV\n",
        "from sklearn.ensemble import GradientBoostingClassifier  # Clasificador de Gradient Boosting\n",
        "from sklearn.preprocessing import StandardScaler  # Para normalizar los datos\n",
        "from sklearn.metrics import confusion_matrix, classification_report  # Para evaluar el modelo\n",
        "\n",
        "# Cargar el dataset de vinos tintos desde la URL\n",
        "dataset_url = \"https://archive.ics.uci.edu/ml/machine-learning-databases/wine-quality/winequality-red.csv\"\n",
        "df = pd.read_csv(dataset_url, sep=';')\n",
        "\n",
        "# Selección de características relevantes\n",
        "selected_features = ['volatile acidity', 'total sulfur dioxide', 'density', 'sulphates', 'alcohol']\n",
        "X = df[selected_features]  # Variables predictoras\n",
        "y = df['quality']  # Variable objetivo (calidad del vino)\n",
        "\n",
        "# Normalización de los datos para mejorar el rendimiento del modelo\n",
        "scaler = StandardScaler()\n",
        "X_scaled = scaler.fit_transform(X)\n",
        "\n",
        "# Manejo del desbalanceo con SMOTE (Generar muestras sintéticas para las clases minoritarias)\n",
        "smote = SMOTE(random_state=42)\n",
        "X_resampled, y_resampled = smote.fit_resample(X_scaled, y)\n",
        "\n",
        "# División de los datos en conjunto de entrenamiento (80%) y prueba (20%)\n",
        "X_train, X_test, y_train, y_test = train_test_split(X_resampled, y_resampled, test_size=0.2, random_state=42)\n",
        "\n",
        "# Definir el modelo Gradient Boosting con búsqueda de hiperparámetros utilizando GridSearchCV\n",
        "tuned_parameters = {\n",
        "    'n_estimators': [100, 200],  # Número de árboles en el modelo\n",
        "    'learning_rate': [0.05, 0.1],  # Tasa de aprendizaje\n",
        "    'max_depth': [3, 5]  # Profundidad máxima de los árboles\n",
        "}\n",
        "gb_model = GridSearchCV(GradientBoostingClassifier(random_state=42), tuned_parameters, cv=5, scoring='accuracy')\n",
        "\n",
        "# Entrenar el modelo con los mejores parámetros encontrados a través de GridSearchCV\n",
        "gb_model.fit(X_train, y_train)\n",
        "print(f\"Mejores parámetros encontrados: {gb_model.best_params_}\")  # Imprimir los mejores parámetros\n",
        "\n",
        "# Guardar el modelo optimizado en un archivo\n",
        "joblib.dump(gb_model.best_estimator_, 'modelo_vinos_optimizado.pkl')\n",
        "print(\"Modelo optimizado guardado exitosamente en 'modelo_vinos_optimizado.pkl'\")\n",
        "\n",
        "# Cargar el modelo optimizado desde el archivo guardado\n",
        "loaded_model = joblib.load('modelo_vinos_optimizado.pkl')\n",
        "print(\"Modelo optimizado cargado exitosamente.\")\n",
        "\n",
        "# Realizar predicciones con el modelo cargado sobre el conjunto de prueba\n",
        "y_pred = loaded_model.predict(X_test)\n",
        "\n",
        "# Generar la Matriz de Confusión para evaluar las predicciones\n",
        "conf_matrix = confusion_matrix(y_test, y_pred)\n",
        "print(\"\\nMatriz de Confusión:\")\n",
        "print(conf_matrix)\n",
        "\n",
        "# Generar el Reporte de Clasificación, que incluye precisión, recall, f1-score, etc.\n",
        "print(\"\\nReporte de Clasificación:\")\n",
        "print(classification_report(y_test, y_pred))\n",
        "\n",
        "# Evaluación final del modelo: Precisión en el conjunto de prueba\n",
        "accuracy = loaded_model.score(X_test, y_test)\n",
        "print(f\"\\nPrecisión final del modelo optimizado: {accuracy:.4f}\")"
      ],
      "metadata": {
        "colab": {
          "base_uri": "https://localhost:8080/"
        },
        "id": "5LRUSbqoKKDt",
        "outputId": "189ec51c-adeb-4eae-f4e9-cdc3b97717ea"
      },
      "execution_count": null,
      "outputs": [
        {
          "output_type": "stream",
          "name": "stdout",
          "text": [
            "Mejores parámetros encontrados: {'learning_rate': 0.05, 'max_depth': 5, 'n_estimators': 200}\n",
            "Modelo optimizado guardado exitosamente en 'modelo_vinos_optimizado.pkl'\n",
            "Modelo optimizado cargado exitosamente.\n",
            "\n",
            "Matriz de Confusión:\n",
            "[[128   0   4   0   0   0]\n",
            " [  4 117   3   4   3   0]\n",
            " [  3  10 109  23   5   0]\n",
            " [  1   9  39  90  12   4]\n",
            " [  0   0   3  11  96   6]\n",
            " [  0   0   0   0   2 132]]\n",
            "\n",
            "Reporte de Clasificación:\n",
            "              precision    recall  f1-score   support\n",
            "\n",
            "           3       0.94      0.97      0.96       132\n",
            "           4       0.86      0.89      0.88       131\n",
            "           5       0.69      0.73      0.71       150\n",
            "           6       0.70      0.58      0.64       155\n",
            "           7       0.81      0.83      0.82       116\n",
            "           8       0.93      0.99      0.96       134\n",
            "\n",
            "    accuracy                           0.82       818\n",
            "   macro avg       0.82      0.83      0.83       818\n",
            "weighted avg       0.82      0.82      0.82       818\n",
            "\n",
            "\n",
            "Precisión final del modelo optimizado: 0.8215\n"
          ]
        }
      ]
    },
    {
      "cell_type": "markdown",
      "source": [
        "**Explicación del flujo del código (B:**\n",
        "1. Carga y preparación de datos: Se carga el dataset, se seleccionan las características relevantes y se normalizan los datos.\n",
        "2. Manejo de desbalanceo: Se usa SMOTE para generar ejemplos sintéticos y equilibrar las clases en el dataset.\n",
        "3. División de los datos: Se divide el dataset en entrenamiento y prueba (80%/20%).\n",
        "4. Optimización de hiperparámetros: Se usa GridSearchCV para encontrar los mejores parámetros para el modelo Gradient Boosting.\n",
        "5. Evaluación del modelo: Se calcula la precisión, la matriz de confusión y el reporte de clasificación para evaluar el rendimiento del modelo."
      ],
      "metadata": {
        "id": "ny5c2iLRmcMB"
      }
    },
    {
      "cell_type": "markdown",
      "source": [
        "# **C) Método de Clasificación: HistGradientBoostingClassifier**"
      ],
      "metadata": {
        "id": "Ic3rhicumlE2"
      }
    },
    {
      "cell_type": "markdown",
      "source": [
        "El código utiliza el HistGradientBoostingClassifier para realizar la clasificación de vinos basándose en varias características seleccionadas. Este modelo es una variante más eficiente y rápida del Gradient Boosting que es particularmente útil cuando se manejan grandes volúmenes de datos o cuando el conjunto de datos contiene muchas características."
      ],
      "metadata": {
        "id": "ShSUdoWEm91I"
      }
    },
    {
      "cell_type": "code",
      "source": [
        "# IVAN FALCON MONZON\n",
        "import pandas as pd\n",
        "import seaborn as sns\n",
        "import matplotlib.pyplot as plt\n",
        "import joblib\n",
        "from imblearn.over_sampling import SMOTE  # Para balancear las clases con SMOTE\n",
        "from sklearn.model_selection import train_test_split, GridSearchCV  # Para dividir y ajustar los hiperparámetros\n",
        "from sklearn.ensemble import HistGradientBoostingClassifier  # Clasificador HistGradientBoosting\n",
        "from sklearn.preprocessing import StandardScaler  # Para normalizar los datos\n",
        "from sklearn.metrics import confusion_matrix, classification_report  # Para evaluar el modelo\n",
        "\n",
        "# Cargar el dataset de vinos tintos desde la URL\n",
        "dataset_url = \"https://archive.ics.uci.edu/ml/machine-learning-databases/wine-quality/winequality-red.csv\"\n",
        "df = pd.read_csv(dataset_url, sep=';')\n",
        "\n",
        "# Selección de características relevantes para la predicción\n",
        "selected_features = ['volatile acidity', 'total sulfur dioxide', 'density', 'sulphates', 'alcohol']\n",
        "X = df[selected_features]  # Variables predictoras\n",
        "y = df['quality']  # Variable objetivo (calidad del vino)\n",
        "\n",
        "# Normalización de los datos para mejorar el rendimiento del modelo\n",
        "scaler = StandardScaler()\n",
        "X_scaled = scaler.fit_transform(X)\n",
        "\n",
        "# Manejo del desbalanceo con SMOTE (Generar muestras sintéticas para las clases minoritarias)\n",
        "smote = SMOTE(random_state=42)\n",
        "X_resampled, y_resampled = smote.fit_resample(X_scaled, y)\n",
        "\n",
        "# División de los datos en conjunto de entrenamiento (80%) y prueba (20%)\n",
        "X_train, X_test, y_train, y_test = train_test_split(X_resampled, y_resampled, test_size=0.2, random_state=42)\n",
        "\n",
        "# Definir el modelo HistGradientBoosting con búsqueda de hiperparámetros utilizando GridSearchCV\n",
        "tuned_parameters = {\n",
        "    'learning_rate': [0.01, 0.05, 0.1],  # Tasa de aprendizaje\n",
        "    'max_iter': [100, 200, 300],  # Número de iteraciones (número de árboles)\n",
        "    'max_depth': [3, 5, 7]  # Profundidad máxima de los árboles\n",
        "}\n",
        "\n",
        "# Inicializar y optimizar el modelo utilizando GridSearchCV\n",
        "gb_model = GridSearchCV(HistGradientBoostingClassifier(random_state=42), tuned_parameters, cv=5, scoring='accuracy')\n",
        "\n",
        "# Entrenar el modelo con los mejores parámetros encontrados a través de GridSearchCV\n",
        "gb_model.fit(X_train, y_train)\n",
        "print(f\"Mejores parámetros encontrados: {gb_model.best_params_}\")  # Imprimir los mejores parámetros\n",
        "\n",
        "# Guardar el modelo optimizado en un archivo\n",
        "joblib.dump(gb_model.best_estimator_, 'modelo_vinos_avanzado.pkl')\n",
        "print(\"Modelo avanzado guardado exitosamente en 'modelo_vinos_avanzado.pkl'\")\n",
        "\n",
        "# Cargar el modelo optimizado desde el archivo guardado\n",
        "loaded_model = joblib.load('modelo_vinos_avanzado.pkl')\n",
        "print(\"Modelo avanzado cargado exitosamente.\")\n",
        "\n",
        "# Realizar predicciones con el modelo cargado sobre el conjunto de prueba\n",
        "y_pred = loaded_model.predict(X_test)\n",
        "\n",
        "# Generar la Matriz de Confusión para evaluar las predicciones\n",
        "conf_matrix = confusion_matrix(y_test, y_pred)\n",
        "print(\"\\nMatriz de Confusión:\")\n",
        "print(conf_matrix)\n",
        "\n",
        "# Generar el Reporte de Clasificación, que incluye precisión, recall, f1-score, etc.\n",
        "print(\"\\nReporte de Clasificación:\")\n",
        "print(classification_report(y_test, y_pred))\n",
        "\n",
        "# Evaluación final del modelo: Precisión en el conjunto de prueba\n",
        "accuracy = loaded_model.score(X_test, y_test)\n",
        "print(f\"\\nPrecisión final del modelo avanzado: {accuracy:.4f}\")"
      ],
      "metadata": {
        "colab": {
          "base_uri": "https://localhost:8080/"
        },
        "id": "DxWZFEAnNub9",
        "outputId": "d9942c51-7ba0-4e35-b573-4174a72e7b21"
      },
      "execution_count": null,
      "outputs": [
        {
          "output_type": "stream",
          "name": "stdout",
          "text": [
            "Mejores parámetros encontrados: {'learning_rate': 0.1, 'max_depth': 7, 'max_iter': 300}\n",
            "Modelo avanzado guardado exitosamente en 'modelo_vinos_avanzado.pkl'\n",
            "Modelo avanzado cargado exitosamente.\n",
            "\n",
            "Matriz de Confusión:\n",
            "[[132   0   0   0   0   0]\n",
            " [  3 122   4   1   1   0]\n",
            " [  4   5 110  26   5   0]\n",
            " [  2   5  37  95  11   5]\n",
            " [  0   0   3  14  92   7]\n",
            " [  0   0   0   0   1 133]]\n",
            "\n",
            "Reporte de Clasificación:\n",
            "              precision    recall  f1-score   support\n",
            "\n",
            "           3       0.94      1.00      0.97       132\n",
            "           4       0.92      0.93      0.93       131\n",
            "           5       0.71      0.73      0.72       150\n",
            "           6       0.70      0.61      0.65       155\n",
            "           7       0.84      0.79      0.81       116\n",
            "           8       0.92      0.99      0.95       134\n",
            "\n",
            "    accuracy                           0.84       818\n",
            "   macro avg       0.84      0.84      0.84       818\n",
            "weighted avg       0.83      0.84      0.83       818\n",
            "\n",
            "\n",
            "Precisión final del modelo avanzado: 0.8362\n"
          ]
        }
      ]
    },
    {
      "cell_type": "markdown",
      "source": [
        "**Resumen del flujo del código (C:**\n",
        "1. Carga y preparación de datos: Se carga el dataset y se seleccionan las características que se usarán para la predicción.\n",
        "2. Normalización de los datos: Se normalizan los datos para garantizar que todas las características tengan la misma escala y mejorar el rendimiento del modelo.\n",
        "3. Manejo del desbalanceo: Se usa SMOTE para crear ejemplos sintéticos y equilibrar las clases en el conjunto de datos.\n",
        "4. Entrenamiento del modelo: Se utiliza HistGradientBoostingClassifier con GridSearchCV para encontrar los mejores parámetros.\n",
        "5. Evaluación del modelo: Se evalúa el rendimiento del modelo en el conjunto de prueba mediante la matriz de confusión y el reporte de clasificación, y se calcula la precisión final."
      ],
      "metadata": {
        "id": "HRYo-j7enCVd"
      }
    },
    {
      "cell_type": "markdown",
      "source": [
        "# **7. Aplicación al Dataset de Vinos Blancos**"
      ],
      "metadata": {
        "id": "b3Earpc9GMTX"
      }
    },
    {
      "cell_type": "markdown",
      "source": [
        "Se probará el modelo con winequality-white.csv con el último método que pruebo en el anterior punto: **Método de Clasificación: HistGradientBoostingClassifier**"
      ],
      "metadata": {
        "id": "wscvb0gHGQ5Z"
      }
    },
    {
      "cell_type": "code",
      "source": [
        "# IVAN FALCON MONZON\n",
        "import pandas as pd\n",
        "import joblib\n",
        "from imblearn.over_sampling import SMOTE  # Para balancear las clases con SMOTE\n",
        "from sklearn.model_selection import train_test_split, GridSearchCV  # Para dividir y ajustar los hiperparámetros\n",
        "from sklearn.ensemble import HistGradientBoostingClassifier  # Clasificador HistGradientBoosting\n",
        "from sklearn.preprocessing import StandardScaler  # Para normalizar los datos\n",
        "from sklearn.metrics import confusion_matrix, classification_report  # Para evaluar el modelo\n",
        "\n",
        "# Cargar el dataset de vinos blancos desde la URL\n",
        "dataset_url_white = \"https://archive.ics.uci.edu/ml/machine-learning-databases/wine-quality/winequality-white.csv\"\n",
        "df_white = pd.read_csv(dataset_url_white, sep=';')\n",
        "\n",
        "# Selección de características relevantes para la predicción\n",
        "selected_features = ['volatile acidity', 'total sulfur dioxide', 'density', 'sulphates', 'alcohol']\n",
        "X_white = df_white[selected_features]  # Variables predictoras\n",
        "y_white = df_white['quality']  # Variable objetivo (calidad del vino)\n",
        "\n",
        "# Normalización de los datos para mejorar el rendimiento del modelo\n",
        "scaler = StandardScaler()\n",
        "X_white_scaled = scaler.fit_transform(X_white)\n",
        "\n",
        "# Manejo del desbalanceo con SMOTE (Generar muestras sintéticas para las clases minoritarias)\n",
        "smote = SMOTE(random_state=42, k_neighbors=3)\n",
        "X_resampled_white, y_resampled_white = smote.fit_resample(X_white_scaled, y_white)\n",
        "\n",
        "# División de los datos en conjunto de entrenamiento (80%) y prueba (20%)\n",
        "X_train_white, X_test_white, y_train_white, y_test_white = train_test_split(X_resampled_white, y_resampled_white, test_size=0.2, random_state=42)\n",
        "\n",
        "# Definir el modelo HistGradientBoosting con búsqueda de hiperparámetros utilizando GridSearchCV\n",
        "tuned_parameters = {\n",
        "    'learning_rate': [0.01, 0.05, 0.1],  # Tasa de aprendizaje\n",
        "    'max_iter': [100, 200, 300],  # Número de iteraciones (número de árboles)\n",
        "    'max_depth': [3, 5, 7]  # Profundidad máxima de los árboles\n",
        "}\n",
        "\n",
        "# Inicializar y optimizar el modelo utilizando GridSearchCV\n",
        "gb_model_white = GridSearchCV(HistGradientBoostingClassifier(random_state=42), tuned_parameters, cv=5, scoring='accuracy')\n",
        "\n",
        "# Entrenar el modelo con los mejores parámetros encontrados a través de GridSearchCV\n",
        "gb_model_white.fit(X_train_white, y_train_white)\n",
        "print(f\"Mejores parámetros encontrados para vinos blancos: {gb_model_white.best_params_}\")  # Imprimir los mejores parámetros\n",
        "\n",
        "# Guardar el modelo optimizado\n",
        "joblib.dump(gb_model_white.best_estimator_, 'modelo_vinos_blancos_avanzado.pkl')\n",
        "print(\"Modelo avanzado para vinos blancos guardado exitosamente en 'modelo_vinos_blancos_avanzado.pkl'\")\n",
        "\n",
        "# Cargar el modelo optimizado\n",
        "loaded_model_white = joblib.load('modelo_vinos_blancos_avanzado.pkl')\n",
        "print(\"Modelo avanzado para vinos blancos cargado exitosamente.\")\n",
        "\n",
        "# Realizar predicciones con el modelo cargado sobre el conjunto de prueba\n",
        "y_pred_white = loaded_model_white.predict(X_test_white)\n",
        "\n",
        "# Generar la Matriz de Confusión para evaluar las predicciones\n",
        "conf_matrix_white = confusion_matrix(y_test_white, y_pred_white)\n",
        "print(\"\\nMatriz de Confusión para Vinos Blancos:\")\n",
        "print(conf_matrix_white)\n",
        "\n",
        "# Generar el Reporte de Clasificación, que incluye precisión, recall, f1-score, etc.\n",
        "print(\"\\nReporte de Clasificación para Vinos Blancos:\")\n",
        "print(classification_report(y_test_white, y_pred_white))\n",
        "\n",
        "# Evaluación final del modelo: Precisión en el conjunto de prueba\n",
        "accuracy_white = loaded_model_white.score(X_test_white, y_test_white)\n",
        "print(f\"\\nPrecisión final del modelo avanzado para vinos blancos: {accuracy_white:.4f}\")"
      ],
      "metadata": {
        "colab": {
          "base_uri": "https://localhost:8080/"
        },
        "id": "EKnwMAuGEGd7",
        "outputId": "7daad194-b039-4621-eba9-27abe9cc1525"
      },
      "execution_count": null,
      "outputs": [
        {
          "output_type": "stream",
          "name": "stdout",
          "text": [
            "Mejores parámetros encontrados para vinos blancos: {'learning_rate': 0.1, 'max_depth': 7, 'max_iter': 300}\n",
            "Modelo avanzado para vinos blancos guardado exitosamente en 'modelo_vinos_blancos_avanzado.pkl'\n",
            "Modelo avanzado para vinos blancos cargado exitosamente.\n",
            "\n",
            "Matriz de Confusión para Vinos Blancos:\n",
            "[[425   0   1   2   0   0   0]\n",
            " [  0 415   9   5   4   1   0]\n",
            " [  3  22 335  79  27   2   1]\n",
            " [  0  10  67 311  50   6   2]\n",
            " [  4   1  15  52 351   9   0]\n",
            " [  0   0   1   6   7 439   0]\n",
            " [  0   0   0   0   0   0 416]]\n",
            "\n",
            "Reporte de Clasificación para Vinos Blancos:\n",
            "              precision    recall  f1-score   support\n",
            "\n",
            "           3       0.98      0.99      0.99       428\n",
            "           4       0.93      0.96      0.94       434\n",
            "           5       0.78      0.71      0.75       469\n",
            "           6       0.68      0.70      0.69       446\n",
            "           7       0.80      0.81      0.81       432\n",
            "           8       0.96      0.97      0.96       453\n",
            "           9       0.99      1.00      1.00       416\n",
            "\n",
            "    accuracy                           0.87      3078\n",
            "   macro avg       0.88      0.88      0.88      3078\n",
            "weighted avg       0.87      0.87      0.87      3078\n",
            "\n",
            "\n",
            "Precisión final del modelo avanzado para vinos blancos: 0.8746\n"
          ]
        }
      ]
    },
    {
      "cell_type": "markdown",
      "source": [
        "**Explicación del flujo del código:**\n",
        "\n",
        "1. Cargar el Dataset: Se carga el archivo CSV de vinos blancos.\n",
        "2. Seleccionar Características y Normalizar: Se seleccionan las características relevantes y se normalizan con StandardScaler.\n",
        "3. Balanceo de Clases: Se aplica SMOTE para balancear las clases del dataset.\n",
        "4. División en Entrenamiento y Prueba: Se divide el dataset balanceado en entrenamiento y prueba.\n",
        "5. Entrenar el Modelo: Se entrena un modelo HistGradientBoostingClassifier con búsqueda de hiperparámetros (GridSearchCV).\n",
        "6. Guardar y Cargar el Modelo: Se guarda el modelo optimizado y luego se carga.\n",
        "7. Predicciones y Evaluación: Se realizan predicciones, y se genera la matriz de confusión y el reporte de clasificación para evaluar el rendimiento del modelo."
      ],
      "metadata": {
        "id": "XK9IAeCfoZ64"
      }
    },
    {
      "cell_type": "markdown",
      "source": [
        "# **8. Conclusiones**"
      ],
      "metadata": {
        "id": "XN4HafbzGTcu"
      }
    },
    {
      "cell_type": "markdown",
      "source": [
        "**A) Método de Clasificación con Random Forest Classifier junto con GridSearchCV para optimizar los hiperparámetros**\n",
        "\n",
        "* Precisión: 0.6719\n",
        "* Conclusión: El modelo de Random Forest con búsqueda de hiperparámetros ha alcanzado una precisión de  67%. Aunque el rendimiento no es bajo, es el menos preciso en comparación con los otros modelos. Esto podría ser debido a la complejidad de los datos.\n",
        "\n",
        "\n",
        "**B) Método de Clasificación: Gradient Boosting Classifier y SMOTE**\n",
        "* Precisión: 0.8215\n",
        "* Conclusión: Este modelo muestra una mejora con una precisión del 82%. El uso de SMOTE para balancear las clases minoritarias ha sido positivo, ayudando al modelo a generalizar mejor en las clases menos representadas. Esto sugiere que los datos del conjunto de vinos tienen un desbalance que se puede manejar bien con esta técnica.\n",
        "\n",
        "**C) Método de Clasificación: HistGradientBoostingClassifier**\n",
        "\n",
        "* Precisión: 0.8362\n",
        "* Conclusión: Este modelo tiene el mejor rendimiento hasta ahora con una precisión del 83.6%. HistGradientBoostingClassifier es más eficiente que el Gradient Boosting tradicional y parece ir bien con este problema, posiblemente debido a su capacidad para manejar de manera más eficiente grandes volúmenes de datos y el desbalance.\n",
        "\n",
        "**7. Aplicación al Dataset de Vinos Blancos**\n",
        "* Precisión: 0.8746\n",
        "* Conclusión: El modelo de HistGradientBoostingClassifier ha alcanzado una precisión en los vinos blancos de 87.46%. Este rendimiento más alto indica que el modelo es capaz de generalizar muy bien en diferentes conjuntos de datos.\n"
      ],
      "metadata": {
        "id": "J2a0VWXVGWY3"
      }
    },
    {
      "cell_type": "markdown",
      "source": [
        "**Conclusión General:**\n",
        "\n",
        "* El modelo HistGradientBoostingClassifier ha demostrado ser el más efectivo y robusto para estos datos, con un buen rendimiento en ambos datasets.\n",
        "* El uso de SMOTE y técnicas de optimización como GridSearchCV han tenido un impacto positivo en los modelos, especialmente en el Gradient Boosting y HistGradientBoosting.\n",
        "* Los resultados también indican que la aplicación de estos modelos a diferentes tipos de vinos (tintos y blancos) proporciona mejoras significativas en precisión, lo que demuestra que la técnica es adaptable y eficaz.\n",
        "\n",
        "\n",
        "En resumen, HistGradientBoostingClassifier es la opción más recomendada para este tipo de clasificación, con una buena capacidad de adaptación a diferentes datasets y un rendimiento superior a los demás métodos."
      ],
      "metadata": {
        "id": "AU59rnN1r2JH"
      }
    },
    {
      "cell_type": "markdown",
      "source": [
        "# Repositorios"
      ],
      "metadata": {
        "id": "ddAPtXTU1B8p"
      }
    },
    {
      "cell_type": "markdown",
      "source": [
        "-Google Colab: https://colab.research.google.com/drive/1wstA4BDbCrbCLebw1eb4zKeYKj4tiCVL?usp=sharing\n",
        "\n",
        "-Github: https://github.com/IvanFalconMonzon/SNS_ACT3_5_IvanFalconMonzon.git"
      ],
      "metadata": {
        "id": "C8XqIdjB1ES_"
      }
    }
  ]
}